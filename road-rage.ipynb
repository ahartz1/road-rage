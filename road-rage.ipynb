{
 "cells": [
  {
   "cell_type": "markdown",
   "metadata": {},
   "source": [
    "# Road Rage: Finding the Ideal Speed Limit\n",
    "\n",
    "### Assumptions\n",
    "* Drivers want to go up to 120 km/hr.\n",
    "* The average car is 5 meters long.\n",
    "* Drivers want at least a number of meters equal to their speed in meters/second between them and the next car.\n",
    "* Drivers will accelerate 2 m/s<sup>2</sup> up to their desired speed as long as they have room to do so.\n",
    "* If another car is too close, drivers will match that car's speed until they have room again.\n",
    "* If a driver would hit another car by continuing, they stop.\n",
    "* Drivers will randomly (10% chance each second) slow by 2 m/s.\n",
    "* This section of road is one lane going one way.\n",
    "* Assume that drivers enter the road at the speed they left.\n",
    "* Simulation starts with 30 cars per kilometer, evenly spaced.\n",
    "\n",
    "## Normal Mode\n",
    "We have a 1 kilometer section of road being built and do not know what the speed limit should be. This notebook simulates the 1 kilometer of road. Even though this road is not circular, the simulation treats it as such in order to generate a continuous flow of traffic."
   ]
  },
  {
   "cell_type": "code",
   "execution_count": 1,
   "metadata": {
    "collapsed": false
   },
   "outputs": [],
   "source": [
    "from copy import deepcopy\n",
    "import math\n",
    "import matplotlib.pyplot as plt\n",
    "import numpy as np\n",
    "import random\n",
    "from traffic_lib import *\n",
    "%matplotlib inline"
   ]
  },
  {
   "cell_type": "code",
   "execution_count": 2,
   "metadata": {
    "collapsed": false
   },
   "outputs": [
    {
     "name": "stdout",
     "output_type": "stream",
     "text": [
      "21.0696969697\n"
     ]
    }
   ],
   "source": [
    "sim1 = HighwaySim()\n",
    "print(sim1.run_sim(120))"
   ]
  },
  {
   "cell_type": "code",
   "execution_count": 3,
   "metadata": {
    "collapsed": false
   },
   "outputs": [],
   "source": [
    "def highway_trials(num_trials=1000):\n",
    "    \"\"\"\n",
    "    Run num_trials of run_sim\n",
    "    \"\"\"\n",
    "    trial_stats = []\n",
    "    for _ in range(num_trials):\n",
    "        sim = HighwaySim()\n",
    "        trial_stats.append(sim.run_sim(120))\n",
    "    return trial_stats"
   ]
  },
  {
   "cell_type": "code",
   "execution_count": 4,
   "metadata": {
    "collapsed": true
   },
   "outputs": [],
   "source": [
    "highway_100_data = highway_trials(100)"
   ]
  },
  {
   "cell_type": "code",
   "execution_count": 6,
   "metadata": {
    "collapsed": false
   },
   "outputs": [
    {
     "name": "stdout",
     "output_type": "stream",
     "text": [
      "100-Trial Mean: 18.275333333333336\n",
      "100-Trial Standard Deviation: 2.3486971434611896\n",
      "Speed Limit Recommendation: 20\n"
     ]
    }
   ],
   "source": [
    "highway_100_mean = np.mean(np.array(highway_100_data))\n",
    "highway_100_std = np.std(np.array(highway_100_data))\n",
    "print(\"100-Trial Mean: {}\".format(highway_100_mean))\n",
    "print(\"100-Trial Standard Deviation: {}\".format(highway_100_std))\n",
    "print(\"Speed Limit Recommendation: {}\".format(int(highway_100_mean + highway_100_std)))"
   ]
  }
 ],
 "metadata": {
  "kernelspec": {
   "display_name": "Python 3",
   "language": "python",
   "name": "python3"
  },
  "language_info": {
   "codemirror_mode": {
    "name": "ipython",
    "version": 3
   },
   "file_extension": ".py",
   "mimetype": "text/x-python",
   "name": "python",
   "nbconvert_exporter": "python",
   "pygments_lexer": "ipython3",
   "version": "3.4.3"
  }
 },
 "nbformat": 4,
 "nbformat_minor": 0
}
