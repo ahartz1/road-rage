{
 "cells": [
  {
   "cell_type": "markdown",
   "metadata": {},
   "source": [
    "# Road Rage: Finding the Ideal Speed Limit\n",
    "\n",
    "### Assumptions\n",
    "* Drivers want to go up to 120 km/hr.\n",
    "* The average car is 5 meters long.\n",
    "* Drivers want at least a number of meters equal to their speed in meters/second between them and the next car.\n",
    "* Drivers will accelerate 2 m/s<sup>2</sup> up to their desired speed as long as they have room to do so.\n",
    "* If another car is too close, drivers will match that car's speed until they have room again.\n",
    "* If a driver would hit another car by continuing, they stop.\n",
    "* Drivers will randomly (10% chance each second) slow by 2 m/s.\n",
    "* This section of road is one lane going one way.\n",
    "* Assume that drivers enter the road at the speed they left.\n",
    "* Simulation starts with 30 cars per kilometer, evenly spaced.\n",
    "\n",
    "## Normal Mode\n",
    "We have a 1 kilometer section of road being built and do not know what the speed limit should be. This notebook simulates the 1 kilometer of road. Even though this road is not circular, the simulation treats it as such in order to generate a continuous flow of traffic."
   ]
  },
  {
   "cell_type": "code",
   "execution_count": 24,
   "metadata": {
    "collapsed": false
   },
   "outputs": [],
   "source": [
    "from copy import deepcopy\n",
    "import math\n",
    "import matplotlib.pyplot as plt\n",
    "import numpy as np\n",
    "import random\n",
    "from traffic_lib import *\n",
    "%matplotlib inline"
   ]
  },
  {
   "cell_type": "code",
   "execution_count": 121,
   "metadata": {
    "collapsed": false
   },
   "outputs": [],
   "source": [
    "class Car:\n",
    "    \"\"\"\n",
    "    Responsibilities:\n",
    "    - Know speed (in m/s)\n",
    "    - Know distance to driver ahead\n",
    "    - Keep distance from driver ahead\n",
    "    - Accelerate if possible\n",
    "    - Match speed of those ahead if within safety zone\n",
    "    - Stop if new location would result in crash (0 distance to car ahead)\n",
    "    \"\"\"\n",
    "\n",
    "    def __init__(self, location, car_id, gap=28, speed_limit=33, start_speed=27):\n",
    "        self.location = location\n",
    "        self.gap = gap\n",
    "        self.desired_speed = speed_limit\n",
    "        self.speed = start_speed\n",
    "        self.size = 5\n",
    "        self.bumper = 0\n",
    "        self.update_bumper()\n",
    "        self.car_id = car_id\n",
    "\n",
    "    def __str__(self):\n",
    "        return 'Car(location={},car_id={},bumper={},gap={},speed={})'.format(\n",
    "                self.location, self.car_id, self.bumper, self.gap, self.speed)\n",
    "\n",
    "    def __repr__(self):\n",
    "        return self.__str__()\n",
    "\n",
    "    def drive(self, car_ahead):\n",
    "\n",
    "        if self.location + self.speed >= car_ahead.bumper:\n",
    "            self.speed = 0\n",
    "            self.location = car_ahead.bumper - 1\n",
    "        elif self.location + self.speed > car_ahead.bumper - self.speed:\n",
    "            self.speed = car_ahead.speed\n",
    "        elif random.random() < 0.1:\n",
    "            self.speed -= 2\n",
    "            if self.speed < 0:\n",
    "                self.speed = 0\n",
    "        elif self.speed < self.desired_speed:\n",
    "            self.speed += 2\n",
    "            if self.speed > self.desired_speed:\n",
    "                self.speed = self.desired_speed\n",
    "\n",
    "        self.location += self.speed\n",
    "        self.bumper = self.location - self.size + 1\n",
    "        if self.location >= 1000:\n",
    "            print(\"I'm off the road, man!\")\n",
    "            return 'off_the_road'\n",
    "        else:\n",
    "            return 'on_the_road'\n",
    "\n",
    "    def update_bumper(self):\n",
    "        self.bumper = self.location - self.size + 1\n"
   ]
  },
  {
   "cell_type": "code",
   "execution_count": 122,
   "metadata": {
    "collapsed": false
   },
   "outputs": [],
   "source": [
    "class Road:\n",
    "    \"\"\"\n",
    "    Responsibilities:\n",
    "    - Hold length of road\n",
    "    - Keep a list of vehicles on road\n",
    "        - Initialize with number of cars\n",
    "        - (1000 - sum(vehicle.size)) // len(self.vehicles)\n",
    "    - Hold potential for slowdown\n",
    "    \n",
    "    Collaborators:\n",
    "    - Car\n",
    "    \"\"\"\n",
    "    def __init__(self):\n",
    "        self.total_vehicle_space = (30 * 5)\n",
    "        self.initial_gap = int((1000 - self.total_vehicle_space) / 30)\n",
    "        self.vehicles = [Car((4 + int(33.333333333*n)),n, self.initial_gap) for n in range(30)]\n",
    "        self.vehicles[-1].gap = (1000 - self.vehicles[-1].location)"
   ]
  },
  {
   "cell_type": "code",
   "execution_count": 123,
   "metadata": {
    "collapsed": false
   },
   "outputs": [],
   "source": [
    "class HighwaySim:\n",
    "    \"\"\"\n",
    "    Responsibilities:\n",
    "    - Have road place cars at beginning of road when they reach the end\n",
    "    - Keep track of time (seconds)\n",
    "    - Step through time (ticks)\n",
    "        - For each car on Road, tell car behind new situation and allow it to react\n",
    "    - Report stats; return traffic jam status\n",
    "    - Pop, Append\n",
    "\n",
    "    Collaborators:\n",
    "    - Car\n",
    "    - Road\n",
    "    \"\"\"\n",
    "\n",
    "    def __init__(self):\n",
    "        self.road = Road()\n",
    "        self.ticks = 0\n",
    "        self.is_traffic = []\n",
    "\n",
    "    def run_sim(self, duration=1):\n",
    "        while self.ticks < duration:\n",
    "            self.iterate()\n",
    "            self.ticks += 1\n",
    "        if self.is_traffic.count(True) > 0:\n",
    "            return True\n",
    "        else:\n",
    "            return False\n",
    "\n",
    "    def iterate(self):\n",
    "        off_the_road = []\n",
    "        num_cars = len(self.road.vehicles)\n",
    "        for idx in range(num_cars):\n",
    "            v = self.road.vehicles[- idx - 1]\n",
    "            if idx > 0:\n",
    "                car_ahead = deepcopy(self.road.vehicles[- idx])\n",
    "            else:\n",
    "                car_ahead = deepcopy(self.road.vehicles[0])\n",
    "                car_ahead.location += 1000\n",
    "                if car_ahead.gap < car_ahead.speed:\n",
    "                    car_ahead.location += car_ahead.gap\n",
    "                else:\n",
    "                    car_ahead.location += car_ahead.speed\n",
    "                car_ahead.bumper = car_ahead.location - car_ahead.size + 1\n",
    "\n",
    "            if v.drive(car_ahead) == 'off the road':\n",
    "                off_the_road.append(- idx - 1)\n",
    "            \n",
    "            if car_ahead.bumper - v.location > 0:\n",
    "                v.gap = car_ahead.bumper - v.location\n",
    "            else:\n",
    "                v.gap = car_ahead.bumper + 1000 - v.location\n",
    "                \n",
    "            v.update_bumper()\n",
    "\n",
    "            if v.speed == 0:\n",
    "                self.is_traffic.append(True)\n",
    "            else:\n",
    "                self.is_traffic.append(False)\n",
    "\n",
    "        while len(off_the_road) > 0:\n",
    "            print(self.road.vehicles[-1])\n",
    "            off_car = self.road.vehicles.pop(-1)\n",
    "            off_car.location -= 1000\n",
    "            if off_car.location >= off_car.size - 1:\n",
    "                off_car.update_bumper()\n",
    "            else:\n",
    "                off_car.bumper = off_car.location - off_car.size + 1 + 1000\n",
    "            self.road.vehicles.insert(0, off_car)\n",
    "            off_the_road.pop(0)\n",
    "        print(self.road.vehicles[-1])"
   ]
  },
  {
   "cell_type": "code",
   "execution_count": 126,
   "metadata": {
    "collapsed": false
   },
   "outputs": [
    {
     "name": "stdout",
     "output_type": "stream",
     "text": [
      "Car(location=999,car_id=29,bumper=995,gap=28,speed=29)\n",
      "I'm off the road, man!\n",
      "Car(location=1030,car_id=29,bumper=1026,gap=28,speed=31)\n"
     ]
    },
    {
     "data": {
      "text/plain": [
       "[Car(location=60,car_id=0,bumper=56,gap=29,speed=27),\n",
       " Car(location=93,car_id=1,bumper=89,gap=29,speed=27),\n",
       " Car(location=126,car_id=2,bumper=122,gap=29,speed=27),\n",
       " Car(location=159,car_id=3,bumper=155,gap=30,speed=27),\n",
       " Car(location=193,car_id=4,bumper=189,gap=29,speed=27),\n",
       " Car(location=226,car_id=5,bumper=222,gap=29,speed=27),\n",
       " Car(location=259,car_id=6,bumper=255,gap=30,speed=27),\n",
       " Car(location=293,car_id=7,bumper=289,gap=29,speed=27),\n",
       " Car(location=326,car_id=8,bumper=322,gap=29,speed=27),\n",
       " Car(location=359,car_id=9,bumper=355,gap=30,speed=27),\n",
       " Car(location=393,car_id=10,bumper=389,gap=29,speed=27),\n",
       " Car(location=426,car_id=11,bumper=422,gap=29,speed=27),\n",
       " Car(location=459,car_id=12,bumper=455,gap=30,speed=27),\n",
       " Car(location=493,car_id=13,bumper=489,gap=29,speed=27),\n",
       " Car(location=526,car_id=14,bumper=522,gap=29,speed=27),\n",
       " Car(location=559,car_id=15,bumper=555,gap=30,speed=27),\n",
       " Car(location=593,car_id=16,bumper=589,gap=25,speed=27),\n",
       " Car(location=622,car_id=17,bumper=618,gap=33,speed=27),\n",
       " Car(location=659,car_id=18,bumper=655,gap=30,speed=27),\n",
       " Car(location=693,car_id=19,bumper=689,gap=29,speed=27),\n",
       " Car(location=726,car_id=20,bumper=722,gap=29,speed=27),\n",
       " Car(location=759,car_id=21,bumper=755,gap=30,speed=27),\n",
       " Car(location=793,car_id=22,bumper=789,gap=29,speed=27),\n",
       " Car(location=826,car_id=23,bumper=822,gap=29,speed=27),\n",
       " Car(location=859,car_id=24,bumper=855,gap=26,speed=27),\n",
       " Car(location=889,car_id=25,bumper=885,gap=33,speed=27),\n",
       " Car(location=926,car_id=26,bumper=922,gap=29,speed=27),\n",
       " Car(location=959,car_id=27,bumper=955,gap=26,speed=27),\n",
       " Car(location=989,car_id=28,bumper=985,gap=37,speed=27),\n",
       " Car(location=1030,car_id=29,bumper=1026,gap=28,speed=31)]"
      ]
     },
     "execution_count": 126,
     "metadata": {},
     "output_type": "execute_result"
    }
   ],
   "source": [
    "sim1 = HighwaySim()\n",
    "sim1.run_sim(2)\n",
    "sim1.road.vehicles"
   ]
  },
  {
   "cell_type": "code",
   "execution_count": 6,
   "metadata": {
    "collapsed": false
   },
   "outputs": [],
   "source": [
    "def highway_trials(num_trials=1000):\n",
    "    \"\"\"\n",
    "    Run num_trials of run_sim\n",
    "    \"\"\"\n",
    "    trial_stats = []\n",
    "    for _ in range(num_trials):\n",
    "        trial_data = HighwaySim()\n",
    "        trial_stats.append(trial_data)\n",
    "    return trial_stats"
   ]
  },
  {
   "cell_type": "code",
   "execution_count": 7,
   "metadata": {
    "collapsed": true
   },
   "outputs": [],
   "source": [
    "highway_1000_data = highway_trials()"
   ]
  },
  {
   "cell_type": "code",
   "execution_count": 8,
   "metadata": {
    "collapsed": false
   },
   "outputs": [
    {
     "name": "stdout",
     "output_type": "stream",
     "text": [
      "0\n"
     ]
    }
   ],
   "source": [
    "print(highway_1000_data.count(True))"
   ]
  },
  {
   "cell_type": "code",
   "execution_count": null,
   "metadata": {
    "collapsed": true
   },
   "outputs": [],
   "source": []
  }
 ],
 "metadata": {
  "kernelspec": {
   "display_name": "Python 3",
   "language": "python",
   "name": "python3"
  },
  "language_info": {
   "codemirror_mode": {
    "name": "ipython",
    "version": 3
   },
   "file_extension": ".py",
   "mimetype": "text/x-python",
   "name": "python",
   "nbconvert_exporter": "python",
   "pygments_lexer": "ipython3",
   "version": "3.4.3"
  }
 },
 "nbformat": 4,
 "nbformat_minor": 0
}
