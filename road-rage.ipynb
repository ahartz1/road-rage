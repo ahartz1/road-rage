{
 "cells": [
  {
   "cell_type": "markdown",
   "metadata": {},
   "source": [
    "# Road Rage: Finding the Ideal Speed Limit\n",
    "\n",
    "### Assumptions\n",
    "* Drivers want to go up to 120 km/hr.\n",
    "* The average car is 5 meters long.\n",
    "* Drivers want at least a number of meters equal to their speed in meters/second between them and the next car.\n",
    "* Drivers will accelerate 2 m/s<sup>2</sup> up to their desired speed as long as they have room to do so.\n",
    "* If another car is too close, drivers will match that car's speed until they have room again.\n",
    "* If a driver would hit another car by continuing, they stop.\n",
    "* Drivers will randomly (10% chance each second) slow by 2 m/s.\n",
    "* This section of road is one lane going one way.\n",
    "* Assume that drivers enter the road at the speed they left.\n",
    "* Simulation starts with 30 cars per kilometer, evenly spaced.\n",
    "\n",
    "## Normal Mode\n",
    "We have a 1 kilometer section of road being built and do not know what the speed limit should be. This notebook simulates the 1 kilometer of road. Even though this road is not circular, the simulation treats it as such in order to generate a continuous flow of traffic."
   ]
  },
  {
   "cell_type": "code",
   "execution_count": 264,
   "metadata": {
    "collapsed": false
   },
   "outputs": [],
   "source": [
    "import math\n",
    "import matplotlib.pyplot as plt\n",
    "import numpy as np\n",
    "import random\n",
    "from traffic_lib import *\n",
    "%matplotlib inline"
   ]
  },
  {
   "cell_type": "code",
   "execution_count": 265,
   "metadata": {
    "collapsed": false
   },
   "outputs": [],
   "source": [
    "class Car:\n",
    "    \"\"\"\n",
    "    Responsibilities:\n",
    "    - Know speed (in m/s)\n",
    "    - Know distance to driver ahead\n",
    "    - Keep distance from driver ahead\n",
    "    - Accelerate if possible\n",
    "    - Match speed of those ahead if within safety zone\n",
    "    - Stop if new location would result in crash (0 distance to car ahead)\n",
    "    \"\"\"\n",
    "    \n",
    "    def __init__(self, location, gap=28, speed_limit=33, start_speed=28):\n",
    "        self.location = location\n",
    "        self.gap = gap\n",
    "        \n",
    "        # speed limit is in km/hr = 1000 m / 3600 s = 1/3.6 m/s;\n",
    "        self.desired_speed = speed_limit\n",
    "        \n",
    "        self.speed = start_speed\n",
    "        self.size = 5\n",
    "        self.advance = None\n",
    "        self.bumper = self.update_bumper()\n",
    "            \n",
    "\n",
    "    \n",
    "    def __str__(self):\n",
    "        return 'Car(location={},gap={})'.format(self.location, self.gap)\n",
    "    \n",
    "    def __repr__(self):\n",
    "        return self.__str__()\n",
    "    \n",
    "    def drive(self, car_ahead): # TODO: UPDATE GAP!\n",
    "        self.advance = self.speed - car_ahead.speed\n",
    "\n",
    "        if car_ahead.location - (car_ahead.size - 1) - self.location > self.location - car_ahead.location:\n",
    "            self.gap = car_ahead.location - (car_ahead.size - 1) - self.location\n",
    "        else:\n",
    "            self.gap = car_ahead.location + 1000 - (car_ahead.size - 1) - self.location\n",
    "\n",
    "        if self.stop(car_ahead):\n",
    "            return self\n",
    "        elif self.match_speed(car_ahead):\n",
    "            return self\n",
    "        elif self.random_slowdown(car_ahead):\n",
    "            return self\n",
    "        elif self.accelerate(car_ahead):\n",
    "            return self\n",
    "\n",
    "    def stop(self, car_ahead):\n",
    "        if self.gap - self.advance <= 0:\n",
    "            self.speed = 0\n",
    "            self.location = car_ahead.bumper - 1\n",
    "            if self.location < 0:\n",
    "                self.location += 1000\n",
    "            self.gap = 0\n",
    "            return True\n",
    "        \n",
    "    def match_speed(self, car_ahead):\n",
    "        if self.gap - self.advance <= self.speed:\n",
    "            self.speed = car_ahead.speed\n",
    "            self.gap = car_ahead.bumper - self.advance\n",
    "            return True\n",
    "        \n",
    "    def random_slowdown(self, car_ahead):\n",
    "        if random.random() < 0.1:\n",
    "            self.speed -= 2\n",
    "            self.gap -= car_ahead.bumper - 1 - (self.advance - 2)\n",
    "            return True\n",
    "    \n",
    "    def accelerate(self, car_ahead):\n",
    "        if self.speed < self.desired_speed:\n",
    "            self.speed += 2\n",
    "            self.gap -= car_ahead.bumper - 1 - (self.advance + 2)\n",
    "            return True\n",
    "        \n",
    "    def update_bumper(self):\n",
    "        if self.location > 4:\n",
    "            self.bumper = self.location - (self.size - 1)\n",
    "        else:\n",
    "            self.bumper = self.location - (self.size - 1) + 1000"
   ]
  },
  {
   "cell_type": "code",
   "execution_count": 266,
   "metadata": {
    "collapsed": false
   },
   "outputs": [],
   "source": [
    "class Road:\n",
    "    \"\"\"\n",
    "    Responsibilities:\n",
    "    - Hold length of road\n",
    "    - Keep a list of vehicles on road\n",
    "        - Initialize with number of cars\n",
    "        - (1000 - sum(vehicle.size)) // len(self.vehicles)\n",
    "    - Hold potential for slowdown\n",
    "    \n",
    "    Collaborators:\n",
    "    - Car\n",
    "    \"\"\"\n",
    "    def __init__(self, num_trucks=0):\n",
    "        self.total_vehicle_space = ((30 - num_trucks) * 5) + (num_trucks * 25)\n",
    "        self.initial_gap = (1000 - self.total_vehicle_space) // 30\n",
    "        self.vehicles = [Car((4 + 33*n), self.initial_gap) for n in range(30 - num_trucks)]\n",
    "        \n",
    "        if num_trucks > 0:\n",
    "            [self.vehicles.append(Truck() for _ in range(num_trucks))]\n",
    "\n",
    "        self.vehicles[-1].gap = (1000 - self.vehicles[-1].location)\n",
    "        \n",
    "    def reinsert_car(self):\n",
    "        if self.vehicles[-1].location < self.total_vehicle_space:\n",
    "            self.vehicles.insert(0, Car(self.vehicles.pop(-1).location))\n",
    "            return True"
   ]
  },
  {
   "cell_type": "code",
   "execution_count": 267,
   "metadata": {
    "collapsed": true
   },
   "outputs": [],
   "source": [
    "class HighwaySim:\n",
    "    \"\"\"\n",
    "    Responsibilities:\n",
    "    - Have road place cars at beginning of road when they reach the end\n",
    "    - Keep track of time (seconds)\n",
    "    - Step through time (ticks)\n",
    "        - For each car on Road, tell car behind new situation and allow it to react\n",
    "        - Update locations; location - 1000 if > 1000\n",
    "    - Report stats; return traffic jam status\n",
    "    - Pop, Append\n",
    "    \n",
    "    Collaborators:\n",
    "    - Car\n",
    "    - Road\n",
    "    \"\"\"\n",
    "    \n",
    "    def __init__(self):\n",
    "        self.road = Road()\n",
    "        self.ticks = 0\n",
    "        self.is_traffic = []\n",
    "    \n",
    "    def iterate(self):\n",
    "        \"\"\"\n",
    "        Reverse list to process cars at the end of the road first.\n",
    "        n.b., lower numbers are physically ahead of higher numbers.\n",
    "        \"\"\"\n",
    "        for idx, v in enumerate(self.road.vehicles[::-1]):\n",
    "            v.drive(self.road.vehicles[idx - 1])\n",
    "            \n",
    "            if v.location + v.speed < 1000:\n",
    "                v.location = v.location + v.speed\n",
    "                v.bumper = v.update_bumper()\n",
    "            else:\n",
    "                v.location = v.location + v.speed - 1000\n",
    "                self.road.reinsert_car()\n",
    "            \n",
    "            if v.speed == 0:\n",
    "                self.is_traffic.append(True)\n",
    "            else:\n",
    "                self.is_traffic.append(False)\n",
    "    \n",
    "    def run_sim(self, duration=2):\n",
    "        while self.ticks < duration:\n",
    "            self.iterate()\n",
    "            self.ticks += 1\n",
    "        if self.is_traffic.count(True) > 0:\n",
    "            return True\n",
    "        else:\n",
    "            return False"
   ]
  },
  {
   "cell_type": "code",
   "execution_count": 268,
   "metadata": {
    "collapsed": false
   },
   "outputs": [],
   "source": [
    "sim1 = HighwaySim()"
   ]
  },
  {
   "cell_type": "code",
   "execution_count": 269,
   "metadata": {
    "collapsed": false
   },
   "outputs": [
    {
     "ename": "TypeError",
     "evalue": "unsupported operand type(s) for -: 'NoneType' and 'int'",
     "output_type": "error",
     "traceback": [
      "\u001b[0;31m---------------------------------------------------------------------------\u001b[0m",
      "\u001b[0;31mTypeError\u001b[0m                                 Traceback (most recent call last)",
      "\u001b[0;32m<ipython-input-269-2924194aea04>\u001b[0m in \u001b[0;36m<module>\u001b[0;34m()\u001b[0m\n\u001b[0;32m----> 1\u001b[0;31m \u001b[0msim1\u001b[0m\u001b[0;34m.\u001b[0m\u001b[0mrun_sim\u001b[0m\u001b[0;34m(\u001b[0m\u001b[0;34m)\u001b[0m\u001b[0;34m\u001b[0m\u001b[0m\n\u001b[0m",
      "\u001b[0;32m<ipython-input-267-ff6fd82c5d87>\u001b[0m in \u001b[0;36mrun_sim\u001b[0;34m(self, duration)\u001b[0m\n\u001b[1;32m     42\u001b[0m     \u001b[0;32mdef\u001b[0m \u001b[0mrun_sim\u001b[0m\u001b[0;34m(\u001b[0m\u001b[0mself\u001b[0m\u001b[0;34m,\u001b[0m \u001b[0mduration\u001b[0m\u001b[0;34m=\u001b[0m\u001b[0;36m2\u001b[0m\u001b[0;34m)\u001b[0m\u001b[0;34m:\u001b[0m\u001b[0;34m\u001b[0m\u001b[0m\n\u001b[1;32m     43\u001b[0m         \u001b[0;32mwhile\u001b[0m \u001b[0mself\u001b[0m\u001b[0;34m.\u001b[0m\u001b[0mticks\u001b[0m \u001b[0;34m<\u001b[0m \u001b[0mduration\u001b[0m\u001b[0;34m:\u001b[0m\u001b[0;34m\u001b[0m\u001b[0m\n\u001b[0;32m---> 44\u001b[0;31m             \u001b[0mself\u001b[0m\u001b[0;34m.\u001b[0m\u001b[0miterate\u001b[0m\u001b[0;34m(\u001b[0m\u001b[0;34m)\u001b[0m\u001b[0;34m\u001b[0m\u001b[0m\n\u001b[0m\u001b[1;32m     45\u001b[0m             \u001b[0mself\u001b[0m\u001b[0;34m.\u001b[0m\u001b[0mticks\u001b[0m \u001b[0;34m+=\u001b[0m \u001b[0;36m1\u001b[0m\u001b[0;34m\u001b[0m\u001b[0m\n\u001b[1;32m     46\u001b[0m         \u001b[0;32mif\u001b[0m \u001b[0mself\u001b[0m\u001b[0;34m.\u001b[0m\u001b[0mis_traffic\u001b[0m\u001b[0;34m.\u001b[0m\u001b[0mcount\u001b[0m\u001b[0;34m(\u001b[0m\u001b[0;32mTrue\u001b[0m\u001b[0;34m)\u001b[0m \u001b[0;34m>\u001b[0m \u001b[0;36m0\u001b[0m\u001b[0;34m:\u001b[0m\u001b[0;34m\u001b[0m\u001b[0m\n",
      "\u001b[0;32m<ipython-input-267-ff6fd82c5d87>\u001b[0m in \u001b[0;36miterate\u001b[0;34m(self)\u001b[0m\n\u001b[1;32m     26\u001b[0m         \"\"\"\n\u001b[1;32m     27\u001b[0m         \u001b[0;32mfor\u001b[0m \u001b[0midx\u001b[0m\u001b[0;34m,\u001b[0m \u001b[0mv\u001b[0m \u001b[0;32min\u001b[0m \u001b[0menumerate\u001b[0m\u001b[0;34m(\u001b[0m\u001b[0mself\u001b[0m\u001b[0;34m.\u001b[0m\u001b[0mroad\u001b[0m\u001b[0;34m.\u001b[0m\u001b[0mvehicles\u001b[0m\u001b[0;34m[\u001b[0m\u001b[0;34m:\u001b[0m\u001b[0;34m:\u001b[0m\u001b[0;34m-\u001b[0m\u001b[0;36m1\u001b[0m\u001b[0;34m]\u001b[0m\u001b[0;34m)\u001b[0m\u001b[0;34m:\u001b[0m\u001b[0;34m\u001b[0m\u001b[0m\n\u001b[0;32m---> 28\u001b[0;31m             \u001b[0mv\u001b[0m\u001b[0;34m.\u001b[0m\u001b[0mdrive\u001b[0m\u001b[0;34m(\u001b[0m\u001b[0mself\u001b[0m\u001b[0;34m.\u001b[0m\u001b[0mroad\u001b[0m\u001b[0;34m.\u001b[0m\u001b[0mvehicles\u001b[0m\u001b[0;34m[\u001b[0m\u001b[0midx\u001b[0m \u001b[0;34m-\u001b[0m \u001b[0;36m1\u001b[0m\u001b[0;34m]\u001b[0m\u001b[0;34m)\u001b[0m\u001b[0;34m\u001b[0m\u001b[0m\n\u001b[0m\u001b[1;32m     29\u001b[0m \u001b[0;34m\u001b[0m\u001b[0m\n\u001b[1;32m     30\u001b[0m             \u001b[0;32mif\u001b[0m \u001b[0mv\u001b[0m\u001b[0;34m.\u001b[0m\u001b[0mlocation\u001b[0m \u001b[0;34m+\u001b[0m \u001b[0mv\u001b[0m\u001b[0;34m.\u001b[0m\u001b[0mspeed\u001b[0m \u001b[0;34m<\u001b[0m \u001b[0;36m1000\u001b[0m\u001b[0;34m:\u001b[0m\u001b[0;34m\u001b[0m\u001b[0m\n",
      "\u001b[0;32m<ipython-input-265-32cac5d769eb>\u001b[0m in \u001b[0;36mdrive\u001b[0;34m(self, car_ahead)\u001b[0m\n\u001b[1;32m     44\u001b[0m         \u001b[0;32melif\u001b[0m \u001b[0mself\u001b[0m\u001b[0;34m.\u001b[0m\u001b[0mrandom_slowdown\u001b[0m\u001b[0;34m(\u001b[0m\u001b[0mcar_ahead\u001b[0m\u001b[0;34m)\u001b[0m\u001b[0;34m:\u001b[0m\u001b[0;34m\u001b[0m\u001b[0m\n\u001b[1;32m     45\u001b[0m             \u001b[0;32mreturn\u001b[0m \u001b[0mself\u001b[0m\u001b[0;34m\u001b[0m\u001b[0m\n\u001b[0;32m---> 46\u001b[0;31m         \u001b[0;32melif\u001b[0m \u001b[0mself\u001b[0m\u001b[0;34m.\u001b[0m\u001b[0maccelerate\u001b[0m\u001b[0;34m(\u001b[0m\u001b[0mcar_ahead\u001b[0m\u001b[0;34m)\u001b[0m\u001b[0;34m:\u001b[0m\u001b[0;34m\u001b[0m\u001b[0m\n\u001b[0m\u001b[1;32m     47\u001b[0m             \u001b[0;32mreturn\u001b[0m \u001b[0mself\u001b[0m\u001b[0;34m\u001b[0m\u001b[0m\n\u001b[1;32m     48\u001b[0m \u001b[0;34m\u001b[0m\u001b[0m\n",
      "\u001b[0;32m<ipython-input-265-32cac5d769eb>\u001b[0m in \u001b[0;36maccelerate\u001b[0;34m(self, car_ahead)\u001b[0m\n\u001b[1;32m     71\u001b[0m         \u001b[0;32mif\u001b[0m \u001b[0mself\u001b[0m\u001b[0;34m.\u001b[0m\u001b[0mspeed\u001b[0m \u001b[0;34m<\u001b[0m \u001b[0mself\u001b[0m\u001b[0;34m.\u001b[0m\u001b[0mdesired_speed\u001b[0m\u001b[0;34m:\u001b[0m\u001b[0;34m\u001b[0m\u001b[0m\n\u001b[1;32m     72\u001b[0m             \u001b[0mself\u001b[0m\u001b[0;34m.\u001b[0m\u001b[0mspeed\u001b[0m \u001b[0;34m+=\u001b[0m \u001b[0;36m2\u001b[0m\u001b[0;34m\u001b[0m\u001b[0m\n\u001b[0;32m---> 73\u001b[0;31m             \u001b[0mself\u001b[0m\u001b[0;34m.\u001b[0m\u001b[0mgap\u001b[0m \u001b[0;34m-=\u001b[0m \u001b[0mcar_ahead\u001b[0m\u001b[0;34m.\u001b[0m\u001b[0mbumper\u001b[0m \u001b[0;34m-\u001b[0m \u001b[0;36m1\u001b[0m \u001b[0;34m-\u001b[0m \u001b[0;34m(\u001b[0m\u001b[0mself\u001b[0m\u001b[0;34m.\u001b[0m\u001b[0madvance\u001b[0m \u001b[0;34m+\u001b[0m \u001b[0;36m2\u001b[0m\u001b[0;34m)\u001b[0m\u001b[0;34m\u001b[0m\u001b[0m\n\u001b[0m\u001b[1;32m     74\u001b[0m             \u001b[0;32mreturn\u001b[0m \u001b[0;32mTrue\u001b[0m\u001b[0;34m\u001b[0m\u001b[0m\n\u001b[1;32m     75\u001b[0m \u001b[0;34m\u001b[0m\u001b[0m\n",
      "\u001b[0;31mTypeError\u001b[0m: unsupported operand type(s) for -: 'NoneType' and 'int'"
     ]
    }
   ],
   "source": [
    "sim1.run_sim()"
   ]
  },
  {
   "cell_type": "code",
   "execution_count": 270,
   "metadata": {
    "collapsed": false
   },
   "outputs": [
    {
     "data": {
      "text/plain": [
       "[Car(location=4,gap=28),\n",
       " Car(location=37,gap=28),\n",
       " Car(location=70,gap=28),\n",
       " Car(location=103,gap=28),\n",
       " Car(location=136,gap=28),\n",
       " Car(location=169,gap=28),\n",
       " Car(location=202,gap=28),\n",
       " Car(location=235,gap=28),\n",
       " Car(location=268,gap=28),\n",
       " Car(location=301,gap=28),\n",
       " Car(location=334,gap=28),\n",
       " Car(location=367,gap=28),\n",
       " Car(location=400,gap=28),\n",
       " Car(location=433,gap=28),\n",
       " Car(location=466,gap=28),\n",
       " Car(location=499,gap=28),\n",
       " Car(location=532,gap=28),\n",
       " Car(location=565,gap=28),\n",
       " Car(location=598,gap=28),\n",
       " Car(location=631,gap=28),\n",
       " Car(location=664,gap=28),\n",
       " Car(location=697,gap=28),\n",
       " Car(location=730,gap=28),\n",
       " Car(location=763,gap=28),\n",
       " Car(location=796,gap=28),\n",
       " Car(location=829,gap=28),\n",
       " Car(location=862,gap=28),\n",
       " Car(location=895,gap=28),\n",
       " Car(location=928,gap=28),\n",
       " Car(location=961,gap=996)]"
      ]
     },
     "execution_count": 270,
     "metadata": {},
     "output_type": "execute_result"
    }
   ],
   "source": [
    "sim1.road.vehicles"
   ]
  },
  {
   "cell_type": "code",
   "execution_count": 147,
   "metadata": {
    "collapsed": false
   },
   "outputs": [],
   "source": [
    "def highway_trials(num_trials=1000):\n",
    "    \"\"\"\n",
    "    Run num_trials of run_sim\n",
    "    \"\"\"\n",
    "    trial_stats = []\n",
    "    for _ in range(num_trials):\n",
    "        trial_data = HighwaySim()\n",
    "        trial_stats.append(trial_data)\n",
    "    return trial_stats"
   ]
  },
  {
   "cell_type": "code",
   "execution_count": 148,
   "metadata": {
    "collapsed": true
   },
   "outputs": [],
   "source": [
    "highway_1000_data = highway_trials()"
   ]
  },
  {
   "cell_type": "code",
   "execution_count": 149,
   "metadata": {
    "collapsed": false
   },
   "outputs": [
    {
     "name": "stdout",
     "output_type": "stream",
     "text": [
      "0\n"
     ]
    }
   ],
   "source": [
    "print(highway_1000_data.count(True))"
   ]
  },
  {
   "cell_type": "code",
   "execution_count": null,
   "metadata": {
    "collapsed": true
   },
   "outputs": [],
   "source": []
  }
 ],
 "metadata": {
  "kernelspec": {
   "display_name": "Python 3",
   "language": "python",
   "name": "python3"
  },
  "language_info": {
   "codemirror_mode": {
    "name": "ipython",
    "version": 3
   },
   "file_extension": ".py",
   "mimetype": "text/x-python",
   "name": "python",
   "nbconvert_exporter": "python",
   "pygments_lexer": "ipython3",
   "version": "3.4.3"
  }
 },
 "nbformat": 4,
 "nbformat_minor": 0
}
