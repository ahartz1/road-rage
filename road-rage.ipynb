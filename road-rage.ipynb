{
 "cells": [
  {
   "cell_type": "markdown",
   "metadata": {},
   "source": [
    "# Road Rage: Finding the Ideal Speed Limit\n",
    "\n",
    "### Assumptions\n",
    "* Drivers want to go up to 120 km/hr.\n",
    "* The average car is 5 meters long.\n",
    "* Drivers want at least a number of meters equal to their speed in meters/second between them and the next car.\n",
    "* Drivers will accelerate 2 m/s<sup>2</sup> up to their desired speed as long as they have room to do so.\n",
    "* If another car is too close, drivers will match that car's speed until they have room again.\n",
    "* If a driver would hit another car by continuing, they stop.\n",
    "* Drivers will randomly (10% chance each second) slow by 2 m/s.\n",
    "* This section of road is one lane going one way.\n",
    "* Assume that drivers enter the road at the speed they left.\n",
    "* Simulation starts with 30 cars per kilometer, evenly spaced.\n",
    "\n",
    "## Normal Mode\n",
    "We have a 1 kilometer section of road being built and do not know what the speed limit should be. This notebook simulates the 1 kilometer of road. Even though this road is not circular, the simulation treats it as such in order to generate a continuous flow of traffic."
   ]
  },
  {
   "cell_type": "code",
   "execution_count": 17,
   "metadata": {
    "collapsed": false
   },
   "outputs": [],
   "source": [
    "import math\n",
    "import matplotlib.pyplot as plt\n",
    "import numpy as np\n",
    "import random\n",
    "from traffic_lib import *\n",
    "%matplotlib inline"
   ]
  },
  {
   "cell_type": "code",
   "execution_count": 60,
   "metadata": {
    "collapsed": false
   },
   "outputs": [],
   "source": [
    "class Car:\n",
    "    \"\"\"\n",
    "    Responsibilities:\n",
    "    - Know speed (in m/s)\n",
    "    - Know distance to driver ahead\n",
    "    - Keep distance from driver ahead\n",
    "    - Accelerate if possible\n",
    "    - Match speed of those ahead if within safety zone\n",
    "    - Stop if new location would result in crash (0 distance to car ahead)\n",
    "    \"\"\"\n",
    "    \n",
    "    def __init__(self, location, gap=28, speed_limit=33, start_speed=28):\n",
    "        self.location = location\n",
    "        self.gap = gap\n",
    "        \n",
    "        # speed limit is in km/hr = 1000 m / 3600 s = 1/3.6 m/s;\n",
    "        self.desired_speed = speed_limit\n",
    "        \n",
    "        self.speed = start_speed\n",
    "        self.size = 5\n",
    "        self.advance = 0\n",
    "        self.bumper = self.update_bumper()\n",
    "            \n",
    "\n",
    "    \n",
    "    def __str__(self):\n",
    "        return 'Car(location={},gap={},speed={})'.format(self.location, self.gap, self.speed)\n",
    "    \n",
    "    def __repr__(self):\n",
    "        return self.__str__()\n",
    "    \n",
    "    def drive(self, car_ahead): # TODO: UPDATE GAP!\n",
    "        self.advance = self.speed - car_ahead.speed\n",
    "\n",
    "        if car_ahead.location - (car_ahead.size - 1) - self.location > self.location - car_ahead.location:\n",
    "            self.gap = car_ahead.location - (car_ahead.size - 1) - self.location\n",
    "        else:\n",
    "            self.gap = car_ahead.location + 1000 - (car_ahead.size - 1) - self.location\n",
    "\n",
    "        if self.stop(car_ahead):\n",
    "            return self\n",
    "        elif self.match_speed(car_ahead):\n",
    "            return self\n",
    "        elif self.random_slowdown(car_ahead):\n",
    "            return self\n",
    "        elif self.accelerate(car_ahead):\n",
    "            return self\n",
    "\n",
    "    def stop(self, car_ahead):\n",
    "        if self.gap - self.advance <= 0:\n",
    "            self.speed = 0\n",
    "            self.location = car_ahead.bumper - 1\n",
    "            if self.location < 0:\n",
    "                self.location += 1000\n",
    "            self.gap = 0\n",
    "            return True\n",
    "        \n",
    "    def match_speed(self, car_ahead):\n",
    "        if self.gap - self.advance < self.speed:\n",
    "            self.speed = car_ahead.speed\n",
    "            self.gap = self.speed\n",
    "            return True\n",
    "        \n",
    "    def random_slowdown(self, car_ahead):\n",
    "        if random.random() < 0.1 and self.speed > 2:\n",
    "            self.speed -= 2\n",
    "            self.gap = (self.advance + 2)\n",
    "            return True\n",
    "    \n",
    "    def accelerate(self, car_ahead):\n",
    "        if self.speed < self.desired_speed:\n",
    "            self.speed += 2\n",
    "            self.gap = (self.advance - 2)\n",
    "            return True\n",
    "        \n",
    "    def update_bumper(self):\n",
    "        if self.location >= 4:\n",
    "            self.bumper = self.location - (self.size - 1)\n",
    "        else:\n",
    "            self.bumper = self.location - self.size + 1000\n",
    "            # Note that to make the bumper location correct, we need to add 1 when adding 1000"
   ]
  },
  {
   "cell_type": "code",
   "execution_count": 61,
   "metadata": {
    "collapsed": false
   },
   "outputs": [],
   "source": [
    "class Road:\n",
    "    \"\"\"\n",
    "    Responsibilities:\n",
    "    - Hold length of road\n",
    "    - Keep a list of vehicles on road\n",
    "        - Initialize with number of cars\n",
    "        - (1000 - sum(vehicle.size)) // len(self.vehicles)\n",
    "    - Hold potential for slowdown\n",
    "    \n",
    "    Collaborators:\n",
    "    - Car\n",
    "    \"\"\"\n",
    "    def __init__(self, num_trucks=0):\n",
    "        self.total_vehicle_space = ((30 - num_trucks) * 5) + (num_trucks * 25)\n",
    "        self.initial_gap = (1000 - self.total_vehicle_space) // 30\n",
    "        self.vehicles = [Car((4 + 33*n), self.initial_gap) for n in range(30 - num_trucks)]\n",
    "        \n",
    "        if num_trucks > 0:\n",
    "            [self.vehicles.append(Truck() for _ in range(num_trucks))]\n",
    "\n",
    "        self.vehicles[-1].gap = (1000 - self.vehicles[-1].location)\n",
    "        \n",
    "    def reinsert_car(self):\n",
    "        if self.vehicles[-1].location < self.total_vehicle_space:\n",
    "            self.vehicles.insert(0, Car(self.vehicles.pop(-1).location))\n",
    "            return True"
   ]
  },
  {
   "cell_type": "code",
   "execution_count": 62,
   "metadata": {
    "collapsed": true
   },
   "outputs": [],
   "source": [
    "class HighwaySim:\n",
    "    \"\"\"\n",
    "    Responsibilities:\n",
    "    - Have road place cars at beginning of road when they reach the end\n",
    "    - Keep track of time (seconds)\n",
    "    - Step through time (ticks)\n",
    "        - For each car on Road, tell car behind new situation and allow it to react\n",
    "        - Update locations; location - 1000 if > 1000\n",
    "    - Report stats; return traffic jam status\n",
    "    - Pop, Append\n",
    "    \n",
    "    Collaborators:\n",
    "    - Car\n",
    "    - Road\n",
    "    \"\"\"\n",
    "    \n",
    "    def __init__(self):\n",
    "        self.road = Road()\n",
    "        self.ticks = 0\n",
    "        self.is_traffic = []\n",
    "    \n",
    "    def iterate(self):\n",
    "        \"\"\"\n",
    "        Reverse list to process cars at the end of the road first.\n",
    "        n.b., lower numbers are physically ahead of higher numbers.\n",
    "        \"\"\"\n",
    "        for idx, v in enumerate(self.road.vehicles):\n",
    "            v.drive(self.road.vehicles[29 - idx]) # Hard coding number of cars\n",
    "            \n",
    "            if v.location + v.speed < 1000:\n",
    "                v.location = v.location + v.speed\n",
    "                v.bumper = v.update_bumper()\n",
    "            else:\n",
    "                v.location = v.location + v.speed - 1000\n",
    "                self.road.reinsert_car()\n",
    "            \n",
    "            if v.speed == 0:\n",
    "                self.is_traffic.append(True)\n",
    "            else:\n",
    "                self.is_traffic.append(False)\n",
    "    \n",
    "    def run_sim(self, duration=2):\n",
    "        while self.ticks < duration:\n",
    "            self.iterate()\n",
    "            self.ticks += 1\n",
    "        if self.is_traffic.count(True) > 0:\n",
    "            return True\n",
    "        else:\n",
    "            return False"
   ]
  },
  {
   "cell_type": "code",
   "execution_count": 63,
   "metadata": {
    "collapsed": false
   },
   "outputs": [],
   "source": [
    "sim1 = HighwaySim()"
   ]
  },
  {
   "cell_type": "code",
   "execution_count": 64,
   "metadata": {
    "collapsed": false
   },
   "outputs": [
    {
     "data": {
      "text/plain": [
       "False"
      ]
     },
     "execution_count": 64,
     "metadata": {},
     "output_type": "execute_result"
    }
   ],
   "source": [
    "sim1.run_sim()"
   ]
  },
  {
   "cell_type": "code",
   "execution_count": 65,
   "metadata": {
    "collapsed": false
   },
   "outputs": [
    {
     "data": {
      "text/plain": [
       "0"
      ]
     },
     "execution_count": 65,
     "metadata": {},
     "output_type": "execute_result"
    }
   ],
   "source": [
    "sim1.is_traffic.count('True')"
   ]
  },
  {
   "cell_type": "code",
   "execution_count": 66,
   "metadata": {
    "collapsed": false
   },
   "outputs": [
    {
     "data": {
      "text/plain": [
       "[Car(location=15,gap=28,speed=28),\n",
       " Car(location=66,gap=2,speed=32),\n",
       " Car(location=95,gap=2,speed=28),\n",
       " Car(location=132,gap=-2,speed=32),\n",
       " Car(location=165,gap=-2,speed=32),\n",
       " Car(location=198,gap=-2,speed=32),\n",
       " Car(location=231,gap=-2,speed=32),\n",
       " Car(location=264,gap=-2,speed=32),\n",
       " Car(location=297,gap=-2,speed=32),\n",
       " Car(location=330,gap=-2,speed=32),\n",
       " Car(location=363,gap=2,speed=32),\n",
       " Car(location=388,gap=-6,speed=28),\n",
       " Car(location=429,gap=-2,speed=32),\n",
       " Car(location=462,gap=-2,speed=32),\n",
       " Car(location=495,gap=-2,speed=32),\n",
       " Car(location=520,gap=-6,speed=28),\n",
       " Car(location=561,gap=0,speed=32),\n",
       " Car(location=594,gap=-4,speed=32),\n",
       " Car(location=627,gap=-4,speed=32),\n",
       " Car(location=660,gap=-4,speed=32),\n",
       " Car(location=693,gap=0,speed=32),\n",
       " Car(location=718,gap=-8,speed=28),\n",
       " Car(location=759,gap=-4,speed=32),\n",
       " Car(location=792,gap=-4,speed=32),\n",
       " Car(location=825,gap=-4,speed=32),\n",
       " Car(location=858,gap=-4,speed=32),\n",
       " Car(location=891,gap=-4,speed=32),\n",
       " Car(location=924,gap=-4,speed=32),\n",
       " Car(location=953,gap=0,speed=28),\n",
       " Car(location=990,gap=0,speed=32)]"
      ]
     },
     "execution_count": 66,
     "metadata": {},
     "output_type": "execute_result"
    }
   ],
   "source": [
    "sim1.road.vehicles"
   ]
  },
  {
   "cell_type": "code",
   "execution_count": 38,
   "metadata": {
    "collapsed": false
   },
   "outputs": [],
   "source": [
    "def highway_trials(num_trials=1000):\n",
    "    \"\"\"\n",
    "    Run num_trials of run_sim\n",
    "    \"\"\"\n",
    "    trial_stats = []\n",
    "    for _ in range(num_trials):\n",
    "        trial_data = HighwaySim()\n",
    "        trial_stats.append(trial_data)\n",
    "    return trial_stats"
   ]
  },
  {
   "cell_type": "code",
   "execution_count": 9,
   "metadata": {
    "collapsed": true
   },
   "outputs": [],
   "source": [
    "highway_1000_data = highway_trials()"
   ]
  },
  {
   "cell_type": "code",
   "execution_count": 10,
   "metadata": {
    "collapsed": false
   },
   "outputs": [
    {
     "name": "stdout",
     "output_type": "stream",
     "text": [
      "0\n"
     ]
    }
   ],
   "source": [
    "print(highway_1000_data.count(True))"
   ]
  },
  {
   "cell_type": "code",
   "execution_count": null,
   "metadata": {
    "collapsed": true
   },
   "outputs": [],
   "source": []
  }
 ],
 "metadata": {
  "kernelspec": {
   "display_name": "Python 3",
   "language": "python",
   "name": "python3"
  },
  "language_info": {
   "codemirror_mode": {
    "name": "ipython",
    "version": 3
   },
   "file_extension": ".py",
   "mimetype": "text/x-python",
   "name": "python",
   "nbconvert_exporter": "python",
   "pygments_lexer": "ipython3",
   "version": "3.4.3"
  }
 },
 "nbformat": 4,
 "nbformat_minor": 0
}
