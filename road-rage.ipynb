{
 "cells": [
  {
   "cell_type": "markdown",
   "metadata": {},
   "source": [
    "# Road Rage: Finding the Ideal Speed Limit\n",
    "\n",
    "### Assumptions\n",
    "* Drivers want to go up to 120 km/hr.\n",
    "* The average car is 5 meters long.\n",
    "* Drivers want at least a number of meters equal to their speed in meters/second between them and the next car.\n",
    "* Drivers will accelerate 2 m/s<sup>2</sup> up to their desired speed as long as they have room to do so.\n",
    "* If another car is too close, drivers will match that car's speed until they have room again.\n",
    "* If a driver would hit another car by continuing, they stop.\n",
    "* Drivers will randomly (10% chance each second) slow by 2 m/s.\n",
    "* This section of road is one lane going one way.\n",
    "* Assume that drivers enter the road at the speed they left.\n",
    "* Simulation starts with 30 cars per kilometer, evenly spaced.\n",
    "\n",
    "## Normal Mode\n",
    "We have a 1 kilometer section of road being built and do not know what the speed limit should be. This notebook simulates the 1 kilometer of road. Even though this road is not circular, the simulation treats it as such in order to generate a continuous flow of traffic."
   ]
  },
  {
   "cell_type": "code",
   "execution_count": 89,
   "metadata": {
    "collapsed": false
   },
   "outputs": [],
   "source": [
    "from copy import deepcopy\n",
    "import math\n",
    "import matplotlib.pyplot as plt\n",
    "import numpy as np\n",
    "import random\n",
    "from traffic_lib import *\n",
    "%matplotlib inline"
   ]
  },
  {
   "cell_type": "code",
   "execution_count": 90,
   "metadata": {
    "collapsed": false
   },
   "outputs": [],
   "source": [
    "class Car:\n",
    "    \"\"\"\n",
    "    Responsibilities:\n",
    "    - Know speed (in m/s)\n",
    "    - Know distance to driver ahead\n",
    "    - Keep distance from driver ahead\n",
    "    - Accelerate if possible\n",
    "    - Match speed of those ahead if within safety zone\n",
    "    - Stop if new location would result in crash (0 distance to car ahead)\n",
    "    \"\"\"\n",
    "\n",
    "    def __init__(self, location, gap=28, speed_limit=33, start_speed=28):\n",
    "        self.location = location\n",
    "        self.gap = gap\n",
    "        self.desired_speed = speed_limit\n",
    "        self.speed = start_speed\n",
    "        self.size = 5\n",
    "        self.bumper = 0\n",
    "        self.update_bumper()\n",
    "\n",
    "    def __str__(self):\n",
    "        return 'Car(location={},gap={},speed={})'.format(\n",
    "                self.location, self.gap, self.speed)\n",
    "\n",
    "    def __repr__(self):\n",
    "        return self.__str__()\n",
    "\n",
    "    def drive(self, car_ahead):\n",
    "\n",
    "        if self.location + self.speed >= car_ahead.bumper:\n",
    "            self.speed = 0\n",
    "            self.location = car_ahead.bumper - 1\n",
    "        elif self.location + self.speed > car_ahead.bumper - self.speed:\n",
    "            self.speed = car_ahead.speed\n",
    "        elif random.random() < 0.1:\n",
    "            self.speed -= 2\n",
    "            if self.speed < 0:\n",
    "                self.speed = 0\n",
    "        elif self.speed < self.desired_speed:\n",
    "            self.speed += 2\n",
    "            if self.speed > self.desired_speed:\n",
    "                self.speed = self.desired_speed\n",
    "\n",
    "        self.update_location(car_ahead)\n",
    "\n",
    "    def update_location(self, car_ahead):\n",
    "        self.location += self.speed\n",
    "        self.gap = car_ahead.bumper - self.location\n",
    "\n",
    "    def update_bumper(self):\n",
    "        if self.location >= self.size - 1:\n",
    "            self.bumper = self.location - (self.size - 1)\n",
    "        else:\n",
    "            self.bumper = self.location - self.size + 1000\n",
    "            # Note that to make the bumper location correct, we need to add 1 when adding 1000"
   ]
  },
  {
   "cell_type": "code",
   "execution_count": 91,
   "metadata": {
    "collapsed": false
   },
   "outputs": [],
   "source": [
    "class Road:\n",
    "    \"\"\"\n",
    "    Responsibilities:\n",
    "    - Hold length of road\n",
    "    - Keep a list of vehicles on road\n",
    "        - Initialize with number of cars\n",
    "        - (1000 - sum(vehicle.size)) // len(self.vehicles)\n",
    "    - Hold potential for slowdown\n",
    "    \n",
    "    Collaborators:\n",
    "    - Car\n",
    "    \"\"\"\n",
    "    def __init__(self, num_trucks=0):\n",
    "        self.total_vehicle_space = ((30 - num_trucks) * 5) + (num_trucks * 25)\n",
    "        self.initial_gap = int((1000 - self.total_vehicle_space) / 30)\n",
    "        self.vehicles = [Car((4 + int(33.333333333*n)), self.initial_gap) for n in range(30 - num_trucks)]\n",
    "        \n",
    "        if num_trucks > 0:\n",
    "            [self.vehicles.append(Truck() for _ in range(num_trucks))]\n",
    "\n",
    "        self.vehicles[-1].gap = (1000 - self.vehicles[-1].location)\n",
    "        \n",
    "    def reinsert_car(self):\n",
    "        if 1000 <= self.vehicles[-1].location:\n",
    "            last_car = self.vehicles.pop(-1)\n",
    "            self.vehicles.insert(0, Car(last_car.location - 1000, last_car.gap))\n",
    "            if self.vehicles[0].location >= self.vehicles[0].size - 1:\n",
    "                self.vehicles[0].update_bumper()\n",
    "            else:\n",
    "                self.vehicles[0].bumper = self.vehicles[0].location - (self.vehicles[0].size -1) + 1000"
   ]
  },
  {
   "cell_type": "code",
   "execution_count": 92,
   "metadata": {
    "collapsed": false
   },
   "outputs": [],
   "source": [
    "class HighwaySim:\n",
    "    \"\"\"\n",
    "    Responsibilities:\n",
    "    - Have road place cars at beginning of road when they reach the end\n",
    "    - Keep track of time (seconds)\n",
    "    - Step through time (ticks)\n",
    "        - For each car on Road, tell car behind new situation and allow it to react\n",
    "    - Report stats; return traffic jam status\n",
    "    - Pop, Append\n",
    "\n",
    "    Collaborators:\n",
    "    - Car\n",
    "    - Road\n",
    "    \"\"\"\n",
    "\n",
    "    def __init__(self):\n",
    "        self.road = Road()\n",
    "        self.ticks = 0\n",
    "        self.is_traffic = []\n",
    "\n",
    "    def run_sim(self, duration=1):\n",
    "        while self.ticks < duration:\n",
    "            self.iterate()\n",
    "            self.ticks += 1\n",
    "        if self.is_traffic.count(True) > 0:\n",
    "            return True\n",
    "        else:\n",
    "            return False\n",
    "\n",
    "    def iterate(self):\n",
    "        for idx, v in enumerate(self.road.vehicles):\n",
    "            if idx > 0:\n",
    "                car_ahead = deepcopy(self.road.vehicles[- idx - 1])\n",
    "            else:\n",
    "                car_ahead = deepcopy(self.road.vehicles[0])\n",
    "                car_ahead.location += 1000\n",
    "                if car_ahead.gap < car_ahead.speed:\n",
    "                    car_ahead.location += car_ahead.gap\n",
    "\n",
    "            v.drive(car_ahead)\n",
    "\n",
    "            if v.speed == 0:\n",
    "                self.is_traffic.append(True)\n",
    "            else:\n",
    "                self.is_traffic.append(False)\n",
    "\n",
    "        for n in range(30):\n",
    "            self.road.reinsert_car()"
   ]
  },
  {
   "cell_type": "code",
   "execution_count": 93,
   "metadata": {
    "collapsed": false
   },
   "outputs": [
    {
     "data": {
      "text/plain": [
       "[Car(location=-1,gap=1,speed=0),\n",
       " Car(location=67,gap=866,speed=30),\n",
       " Car(location=100,gap=799,speed=30),\n",
       " Car(location=133,gap=733,speed=30),\n",
       " Car(location=167,gap=666,speed=30),\n",
       " Car(location=200,gap=599,speed=30),\n",
       " Car(location=233,gap=533,speed=30),\n",
       " Car(location=267,gap=466,speed=30),\n",
       " Car(location=300,gap=399,speed=30),\n",
       " Car(location=333,gap=333,speed=30),\n",
       " Car(location=367,gap=266,speed=30),\n",
       " Car(location=400,gap=199,speed=30),\n",
       " Car(location=433,gap=133,speed=30),\n",
       " Car(location=463,gap=70,speed=26),\n",
       " Car(location=498,gap=1,speed=28),\n",
       " Car(location=465,gap=1,speed=0),\n",
       " Car(location=432,gap=1,speed=0),\n",
       " Car(location=398,gap=1,speed=0),\n",
       " Car(location=365,gap=1,speed=0),\n",
       " Car(location=332,gap=1,speed=0),\n",
       " Car(location=298,gap=1,speed=0),\n",
       " Car(location=265,gap=1,speed=0),\n",
       " Car(location=232,gap=1,speed=0),\n",
       " Car(location=198,gap=1,speed=0),\n",
       " Car(location=165,gap=1,speed=0),\n",
       " Car(location=132,gap=1,speed=0),\n",
       " Car(location=98,gap=1,speed=0),\n",
       " Car(location=65,gap=1,speed=0),\n",
       " Car(location=32,gap=1,speed=0),\n",
       " Car(location=-1,gap=1,speed=0)]"
      ]
     },
     "execution_count": 93,
     "metadata": {},
     "output_type": "execute_result"
    }
   ],
   "source": [
    "sim1 = HighwaySim()\n",
    "sim1.run_sim()\n",
    "sim1.road.vehicles"
   ]
  },
  {
   "cell_type": "code",
   "execution_count": 61,
   "metadata": {
    "collapsed": false
   },
   "outputs": [],
   "source": [
    "def highway_trials(num_trials=1000):\n",
    "    \"\"\"\n",
    "    Run num_trials of run_sim\n",
    "    \"\"\"\n",
    "    trial_stats = []\n",
    "    for _ in range(num_trials):\n",
    "        trial_data = HighwaySim()\n",
    "        trial_stats.append(trial_data)\n",
    "    return trial_stats"
   ]
  },
  {
   "cell_type": "code",
   "execution_count": 41,
   "metadata": {
    "collapsed": true
   },
   "outputs": [],
   "source": [
    "highway_1000_data = highway_trials()"
   ]
  },
  {
   "cell_type": "code",
   "execution_count": 11,
   "metadata": {
    "collapsed": false
   },
   "outputs": [
    {
     "name": "stdout",
     "output_type": "stream",
     "text": [
      "0\n"
     ]
    }
   ],
   "source": [
    "print(highway_1000_data.count(True))"
   ]
  },
  {
   "cell_type": "code",
   "execution_count": null,
   "metadata": {
    "collapsed": true
   },
   "outputs": [],
   "source": []
  }
 ],
 "metadata": {
  "kernelspec": {
   "display_name": "Python 3",
   "language": "python",
   "name": "python3"
  },
  "language_info": {
   "codemirror_mode": {
    "name": "ipython",
    "version": 3
   },
   "file_extension": ".py",
   "mimetype": "text/x-python",
   "name": "python",
   "nbconvert_exporter": "python",
   "pygments_lexer": "ipython3",
   "version": "3.4.3"
  }
 },
 "nbformat": 4,
 "nbformat_minor": 0
}
