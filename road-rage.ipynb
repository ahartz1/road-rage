{
 "cells": [
  {
   "cell_type": "markdown",
   "metadata": {},
   "source": [
    "# Road Rage: Finding the Ideal Speed Limit\n",
    "\n",
    "### Assumptions\n",
    "* Drivers want to go up to 120 km/hr.\n",
    "* The average car is 5 meters long.\n",
    "* Drivers want at least a number of meters equal to their speed in meters/second between them and the next car.\n",
    "* Drivers will accelerate 2 m/s<sup>2</sup> up to their desired speed as long as they have room to do so.\n",
    "* If another car is too close, drivers will match that car's speed until they have room again.\n",
    "* If a driver would hit another car by continuing, they stop.\n",
    "* Drivers will randomly (10% chance each second) slow by 2 m/s.\n",
    "* This section of road is one lane going one way.\n",
    "* Assume that drivers enter the road at the speed they left.\n",
    "* Simulation starts with 30 cars per kilometer, evenly spaced.\n",
    "\n",
    "## Normal Mode\n",
    "We have a 1 kilometer section of road being built and do not know what the speed limit should be. This notebook simulates the 1 kilometer of road. Even though this road is not circular, the simulation treats it as such in order to generate a continuous flow of traffic."
   ]
  },
  {
   "cell_type": "code",
   "execution_count": 1,
   "metadata": {
    "collapsed": false
   },
   "outputs": [],
   "source": [
    "from copy import deepcopy\n",
    "import math\n",
    "import matplotlib.pyplot as plt\n",
    "import numpy as np\n",
    "import random\n",
    "from traffic_lib import *\n",
    "%matplotlib inline"
   ]
  },
  {
   "cell_type": "code",
   "execution_count": 13,
   "metadata": {
    "collapsed": false
   },
   "outputs": [],
   "source": [
    "class Car:\n",
    "    \"\"\"\n",
    "    Responsibilities:\n",
    "    - Know speed (in m/s)\n",
    "    - Know distance to driver ahead\n",
    "    - Keep distance from driver ahead\n",
    "    - Accelerate if possible\n",
    "    - Match speed of those ahead if within safety zone\n",
    "    - Stop if new location would result in crash (0 distance to car ahead)\n",
    "    \"\"\"\n",
    "\n",
    "    def __init__(self, location, car_id, gap=28, speed_limit=33, start_speed=27):\n",
    "        self.location = location\n",
    "        self.gap = gap\n",
    "        self.desired_speed = speed_limit\n",
    "        self.speed = start_speed\n",
    "        self.size = 5\n",
    "        self.bumper = 0\n",
    "        self.update_bumper()\n",
    "        self.car_id = car_id\n",
    "\n",
    "    def __str__(self):\n",
    "        return 'Car(location={},car_id={},bumper={},gap={},speed={})'.format(\n",
    "                self.location, self.car_id, self.bumper, self.gap, self.speed)\n",
    "\n",
    "    def __repr__(self):\n",
    "        return self.__str__()\n",
    "\n",
    "    def drive(self, car_ahead):\n",
    "\n",
    "        if self.location + self.speed >= car_ahead.bumper:\n",
    "            self.speed = 0\n",
    "            self.location = car_ahead.bumper - 1\n",
    "        elif self.location + self.speed > car_ahead.bumper - self.speed:\n",
    "            self.speed = car_ahead.speed\n",
    "        elif random.random() < 0.1:\n",
    "            self.speed -= 2\n",
    "            if self.speed < 0:\n",
    "                self.speed = 0\n",
    "        elif self.speed < self.desired_speed:\n",
    "            self.speed += 2\n",
    "            if self.speed > self.desired_speed:\n",
    "                self.speed = self.desired_speed\n",
    "\n",
    "        self.location += self.speed\n",
    "        self.bumper = self.location - self.size + 1\n",
    "        if self.location >= 1000:\n",
    "            return True\n",
    "        else:\n",
    "            return False\n",
    "\n",
    "    def update_bumper(self):\n",
    "        self.bumper = self.location - self.size + 1\n"
   ]
  },
  {
   "cell_type": "code",
   "execution_count": 14,
   "metadata": {
    "collapsed": false
   },
   "outputs": [],
   "source": [
    "class Road:\n",
    "    \"\"\"\n",
    "    Responsibilities:\n",
    "    - Hold length of road\n",
    "    - Keep a list of vehicles on road\n",
    "        - Initialize with number of cars\n",
    "        - (1000 - sum(vehicle.size)) // len(self.vehicles)\n",
    "    - Hold potential for slowdown\n",
    "    \n",
    "    Collaborators:\n",
    "    - Car\n",
    "    \"\"\"\n",
    "    def __init__(self):\n",
    "        self.total_vehicle_space = (30 * 5)\n",
    "        self.initial_gap = int((1000 - self.total_vehicle_space) / 30)\n",
    "        self.vehicles = [Car((4 + int(33.333333333*n)),n, self.initial_gap) for n in range(30)]\n",
    "        self.vehicles[-1].gap = (1000 - self.vehicles[-1].location)"
   ]
  },
  {
   "cell_type": "code",
   "execution_count": 19,
   "metadata": {
    "collapsed": false
   },
   "outputs": [],
   "source": [
    "class HighwaySim:\n",
    "    \"\"\"\n",
    "    Responsibilities:\n",
    "    - Have road place cars at beginning of road when they reach the end\n",
    "    - Keep track of time (seconds)\n",
    "    - Step through time (ticks)\n",
    "        - For each car on Road, tell car behind new situation and allow it to react\n",
    "    - Report stats; return traffic jam status\n",
    "    - Pop, Append\n",
    "\n",
    "    Collaborators:\n",
    "    - Car\n",
    "    - Road\n",
    "    \"\"\"\n",
    "\n",
    "    def __init__(self):\n",
    "        self.road = Road()\n",
    "        self.ticks = 0\n",
    "        self.is_traffic = []\n",
    "\n",
    "    def run_sim(self, duration=1):\n",
    "        while self.ticks < duration:\n",
    "            self.iterate()\n",
    "            self.ticks += 1\n",
    "        if self.is_traffic.count(True) > 0:\n",
    "            return True\n",
    "        else:\n",
    "            return False\n",
    "\n",
    "    def iterate(self):\n",
    "        off_the_road = []\n",
    "        num_cars = len(self.road.vehicles)\n",
    "        for idx in range(num_cars):\n",
    "            v = self.road.vehicles[- idx - 1]\n",
    "            if idx > 0:\n",
    "                car_ahead = deepcopy(self.road.vehicles[- idx])\n",
    "            else:\n",
    "                car_ahead = deepcopy(self.road.vehicles[0])\n",
    "                car_ahead.location += 1000\n",
    "                if car_ahead.gap < car_ahead.speed:\n",
    "                    car_ahead.location += car_ahead.gap\n",
    "                else:\n",
    "                    car_ahead.location += car_ahead.speed\n",
    "                car_ahead.bumper = car_ahead.location - car_ahead.size + 1\n",
    "\n",
    "            if v.drive(car_ahead):\n",
    "                off_the_road.append(- idx - 1)\n",
    "            \n",
    "            if car_ahead.bumper - v.location > 0:\n",
    "                v.gap = car_ahead.bumper - v.location\n",
    "            else:\n",
    "                v.gap = car_ahead.bumper + 1000 - v.location\n",
    "\n",
    "            if v.speed == 0:\n",
    "                self.is_traffic.append(True)\n",
    "            else:\n",
    "                self.is_traffic.append(False)\n",
    "\n",
    "        while len(off_the_road) > 0:\n",
    "            off_car = self.road.vehicles.pop(-1)\n",
    "            off_car.location -= 1000\n",
    "            if off_car.location >= off_car.size - 1:\n",
    "                off_car.update_bumper()\n",
    "            else:\n",
    "                off_car.bumper = off_car.location - off_car.size + 1 + 1000\n",
    "            self.road.vehicles.insert(0, off_car)\n",
    "            off_the_road.pop(0)"
   ]
  },
  {
   "cell_type": "code",
   "execution_count": 24,
   "metadata": {
    "collapsed": false
   },
   "outputs": [
    {
     "name": "stdout",
     "output_type": "stream",
     "text": [
      "True\n"
     ]
    },
    {
     "data": {
      "text/plain": [
       "[Car(location=31,car_id=19,bumper=27,gap=59,speed=10),\n",
       " Car(location=94,car_id=20,bumper=90,gap=20,speed=8),\n",
       " Car(location=118,car_id=21,bumper=114,gap=33,speed=8),\n",
       " Car(location=155,car_id=22,bumper=151,gap=29,speed=8),\n",
       " Car(location=188,car_id=23,bumper=184,gap=33,speed=8),\n",
       " Car(location=225,car_id=24,bumper=221,gap=31,speed=8),\n",
       " Car(location=260,car_id=25,bumper=256,gap=32,speed=8),\n",
       " Car(location=296,car_id=26,bumper=292,gap=9,speed=8),\n",
       " Car(location=309,car_id=27,bumper=305,gap=38,speed=10),\n",
       " Car(location=351,car_id=28,bumper=347,gap=56,speed=10),\n",
       " Car(location=411,car_id=29,bumper=407,gap=71,speed=14),\n",
       " Car(location=486,car_id=0,bumper=482,gap=22,speed=24),\n",
       " Car(location=512,car_id=1,bumper=508,gap=17,speed=24),\n",
       " Car(location=533,car_id=2,bumper=529,gap=21,speed=24),\n",
       " Car(location=558,car_id=3,bumper=554,gap=57,speed=24),\n",
       " Car(location=619,car_id=4,bumper=615,gap=17,speed=22),\n",
       " Car(location=640,car_id=5,bumper=636,gap=21,speed=22),\n",
       " Car(location=665,car_id=6,bumper=661,gap=14,speed=18),\n",
       " Car(location=683,car_id=7,bumper=679,gap=21,speed=18),\n",
       " Car(location=708,car_id=8,bumper=704,gap=10,speed=18),\n",
       " Car(location=722,car_id=9,bumper=718,gap=31,speed=18),\n",
       " Car(location=757,car_id=10,bumper=753,gap=1,speed=0),\n",
       " Car(location=762,car_id=11,bumper=758,gap=23,speed=2),\n",
       " Car(location=789,car_id=12,bumper=785,gap=42,speed=2),\n",
       " Car(location=835,car_id=13,bumper=831,gap=25,speed=2),\n",
       " Car(location=864,car_id=14,bumper=860,gap=21,speed=2),\n",
       " Car(location=889,car_id=15,bumper=885,gap=38,speed=2),\n",
       " Car(location=931,car_id=16,bumper=927,gap=32,speed=6),\n",
       " Car(location=967,car_id=17,bumper=963,gap=13,speed=6),\n",
       " Car(location=984,car_id=18,bumper=980,gap=45,speed=10)]"
      ]
     },
     "execution_count": 24,
     "metadata": {},
     "output_type": "execute_result"
    }
   ],
   "source": [
    "sim1 = HighwaySim()\n",
    "print(sim1.run_sim(60))\n",
    "sim1.road.vehicles"
   ]
  },
  {
   "cell_type": "code",
   "execution_count": 6,
   "metadata": {
    "collapsed": false
   },
   "outputs": [],
   "source": [
    "def highway_trials(num_trials=1000):\n",
    "    \"\"\"\n",
    "    Run num_trials of run_sim\n",
    "    \"\"\"\n",
    "    trial_stats = []\n",
    "    for _ in range(num_trials):\n",
    "        trial_data = HighwaySim()\n",
    "        trial_stats.append(trial_data)\n",
    "    return trial_stats"
   ]
  },
  {
   "cell_type": "code",
   "execution_count": 7,
   "metadata": {
    "collapsed": true
   },
   "outputs": [],
   "source": [
    "highway_1000_data = highway_trials()"
   ]
  },
  {
   "cell_type": "code",
   "execution_count": 8,
   "metadata": {
    "collapsed": false
   },
   "outputs": [
    {
     "name": "stdout",
     "output_type": "stream",
     "text": [
      "0\n"
     ]
    }
   ],
   "source": [
    "print(highway_1000_data.count(True))"
   ]
  },
  {
   "cell_type": "code",
   "execution_count": null,
   "metadata": {
    "collapsed": true
   },
   "outputs": [],
   "source": []
  }
 ],
 "metadata": {
  "kernelspec": {
   "display_name": "Python 3",
   "language": "python",
   "name": "python3"
  },
  "language_info": {
   "codemirror_mode": {
    "name": "ipython",
    "version": 3
   },
   "file_extension": ".py",
   "mimetype": "text/x-python",
   "name": "python",
   "nbconvert_exporter": "python",
   "pygments_lexer": "ipython3",
   "version": "3.4.3"
  }
 },
 "nbformat": 4,
 "nbformat_minor": 0
}
