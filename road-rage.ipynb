{
 "cells": [
  {
   "cell_type": "markdown",
   "metadata": {},
   "source": [
    "# Road Rage: Finding the Ideal Speed Limit\n",
    "\n",
    "### Assumptions\n",
    "* Drivers want to go up to 120 km/hr.\n",
    "* The average car is 5 meters long.\n",
    "* Drivers want at least a number of meters equal to their speed in meters/second between them and the next car.\n",
    "* Drivers will accelerate 2 m/s<sup>2</sup> up to their desired speed as long as they have room to do so.\n",
    "* If another car is too close, drivers will match that car's speed until they have room again.\n",
    "* If a driver would hit another car by continuing, they stop.\n",
    "* Drivers will randomly (10% chance each second) slow by 2 m/s.\n",
    "* This section of road is one lane going one way.\n",
    "* Assume that drivers enter the road at the speed they left.\n",
    "* Simulation starts with 30 cars per kilometer, evenly spaced.\n",
    "\n",
    "## Normal Mode\n",
    "We have a 1 kilometer section of road being built and do not know what the speed limit should be. This notebook simulates the 1 kilometer of road. Even though this road is not circular, the simulation treats it as such in order to generate a continuous flow of traffic."
   ]
  },
  {
   "cell_type": "code",
   "execution_count": 259,
   "metadata": {
    "collapsed": false
   },
   "outputs": [],
   "source": [
    "import math\n",
    "import matplotlib.pyplot as plt\n",
    "import numpy as np\n",
    "import random\n",
    "from traffic_lib import *\n",
    "%matplotlib inline"
   ]
  },
  {
   "cell_type": "code",
   "execution_count": 267,
   "metadata": {
    "collapsed": false
   },
   "outputs": [],
   "source": [
    "class Car:\n",
    "    \"\"\"\n",
    "    Responsibilities:\n",
    "    - Know speed (in m/s)\n",
    "    - Know distance to driver ahead\n",
    "    - Keep distance from driver ahead\n",
    "    - Accelerate if possible\n",
    "    - Match speed of those ahead if within safety zone\n",
    "    - Stop if new location would result in crash (0 distance to car ahead)\n",
    "    \"\"\"\n",
    "    \n",
    "    def __init__(self, location, gap=28, speed_limit=33, start_speed=28):\n",
    "        self.location = location\n",
    "        self.gap = gap\n",
    "        \n",
    "        # speed limit is in km/hr = 1000 m / 3600 s = 1/3.6 m/s;\n",
    "        self.desired_speed = speed_limit\n",
    "        \n",
    "        self.speed = start_speed\n",
    "        self.size = 5\n",
    "        self.advance = 0\n",
    "        self.bumper = 0\n",
    "        self.update_bumper()\n",
    "        self.anticipated_ca_location = self.location + self.speed\n",
    "\n",
    "    def __str__(self):\n",
    "        return 'Car(location={},gap={},speed={})'.format(self.location, self.gap, self.speed)\n",
    "    \n",
    "    def __repr__(self):\n",
    "        return self.__str__()\n",
    "    \n",
    "    def drive(self, car_ahead): # TODO: UPDATE GAP!\n",
    "        self.advance = (self.speed - car_ahead.speed)\n",
    "        self.anticipated_ca_loc = (car_ahead.bumper + car_ahead.speed)\n",
    "        # anticipated location of car ahead at end of current second = car_ahead.bumper + car_ahead.speed\n",
    "        # gap at end of second will be car_ahead.bumper + car_ahead.speed - self.location + self.speed\n",
    "        # Closing speed\n",
    "        # Let's assume the car ahead has done their move; only the last car in the list needs to anticipate\n",
    "\n",
    "        if self.stop(car_ahead):\n",
    "            pass\n",
    "            \n",
    "        elif self.match_speed(car_ahead):\n",
    "            pass\n",
    "            \n",
    "        elif self.random_slowdown(car_ahead):\n",
    "            pass\n",
    "            \n",
    "        elif self.accelerate(car_ahead):\n",
    "            pass\n",
    "            \n",
    "        self.update_location(car_ahead)\n",
    "\n",
    "    def stop(self, car_ahead):\n",
    "        if self.location + self.speed >= car_ahead.bumper:\n",
    "            self.speed = 0\n",
    "            self.location = car_ahead.bumper - 1\n",
    "            return True\n",
    "        \n",
    "    def match_speed(self, car_ahead):\n",
    "        if self.location + self.speed < car_ahead.bumper - self.speed:\n",
    "            self.speed = car_ahead.speed\n",
    "            return True\n",
    "        \n",
    "    def random_slowdown(self, car_ahead):\n",
    "        if random.random() < 0.1:\n",
    "            self.speed -= 2\n",
    "            if self.speed < 0:\n",
    "                self.speed = 0\n",
    "            return True\n",
    "    \n",
    "    def accelerate(self, car_ahead):\n",
    "        if self.speed < self.desired_speed:\n",
    "            if self.desired_speed - self.speed <= 2:\n",
    "                self.speed = self.desired_speed\n",
    "            else:\n",
    "                self.speed += 2\n",
    "            return True\n",
    "    \n",
    "    def update_location(self, car_ahead):\n",
    "        if self.location + self.speed < 1000:\n",
    "            self.location = self.location + self.speed\n",
    "        else:\n",
    "            self.location = 1000 - self.location + self.speed\n",
    "        self.update_bumper()\n",
    "        print(car_ahead.bumper)\n",
    "        self.gap = car_ahead.bumper - self.location * self.speed\n",
    "    \n",
    "    def update_bumper(self):\n",
    "        if self.location >= 4:\n",
    "            self.bumper = self.location - (self.size - 1)\n",
    "        else:\n",
    "            self.bumper = self.location - self.size + 1000\n",
    "            # Note that to make the bumper location correct, we need to add 1 when adding 1000"
   ]
  },
  {
   "cell_type": "code",
   "execution_count": 287,
   "metadata": {
    "collapsed": false
   },
   "outputs": [],
   "source": [
    "class Road:\n",
    "    \"\"\"\n",
    "    Responsibilities:\n",
    "    - Hold length of road\n",
    "    - Keep a list of vehicles on road\n",
    "        - Initialize with number of cars\n",
    "        - (1000 - sum(vehicle.size)) // len(self.vehicles)\n",
    "    - Hold potential for slowdown\n",
    "    \n",
    "    Collaborators:\n",
    "    - Car\n",
    "    \"\"\"\n",
    "    def __init__(self, num_trucks=0):\n",
    "        self.total_vehicle_space = ((30 - num_trucks) * 5) + (num_trucks * 25)\n",
    "        self.initial_gap = (1000 - self.total_vehicle_space) // 30\n",
    "        self.vehicles = [Car((4 + 33*n), self.initial_gap) for n in range(30 - num_trucks)]\n",
    "        \n",
    "        if num_trucks > 0:\n",
    "            [self.vehicles.append(Truck() for _ in range(num_trucks))]\n",
    "\n",
    "        self.vehicles[-1].gap = (1000 - self.vehicles[-1].location)\n",
    "        \n",
    "    def reinsert_car(self):\n",
    "        if self.vehicles[-1].location < 121:\n",
    "            last_car = self.vehicles.pop(-1)\n",
    "            self.vehicles.insert(0, Car(last_car.location, last_car.gap))\n",
    "            return True"
   ]
  },
  {
   "cell_type": "code",
   "execution_count": 293,
   "metadata": {
    "collapsed": false
   },
   "outputs": [],
   "source": [
    "class HighwaySim:\n",
    "    \"\"\"\n",
    "    Responsibilities:\n",
    "    - Have road place cars at beginning of road when they reach the end\n",
    "    - Keep track of time (seconds)\n",
    "    - Step through time (ticks)\n",
    "        - For each car on Road, tell car behind new situation and allow it to react\n",
    "        - Update locations; location - 1000 if > 1000\n",
    "    - Report stats; return traffic jam status\n",
    "    - Pop, Append\n",
    "    \n",
    "    Collaborators:\n",
    "    - Car\n",
    "    - Road\n",
    "    \"\"\"\n",
    "    \n",
    "    def __init__(self):\n",
    "        self.road = Road()\n",
    "        self.ticks = 0\n",
    "        self.is_traffic = []\n",
    "    \n",
    "    def iterate(self):\n",
    "        \"\"\"\n",
    "        Reverse list to process cars at the end of the road first.\n",
    "        n.b., lower numbers are physically ahead of higher numbers.\n",
    "        \"\"\"\n",
    "        for idx, v in enumerate(self.road.vehicles):\n",
    "            if idx < 28:\n",
    "                car_ahead = self.road.vehicles[- idx - 1]\n",
    "            else:\n",
    "                car_ahead = self.road.vehicles[-1]\n",
    "            \n",
    "            print(-idx-1)\n",
    "            v.drive(car_ahead)\n",
    "            \n",
    "            self.road.reinsert_car()\n",
    "            \n",
    "            if v.speed == 0:\n",
    "                self.is_traffic.append(True)\n",
    "            else:\n",
    "                self.is_traffic.append(False)\n",
    "    \n",
    "    def run_sim(self, duration=1):\n",
    "        self.ticks = 0\n",
    "        while self.ticks < duration:\n",
    "            self.iterate()\n",
    "            self.ticks += 1\n",
    "        if self.is_traffic.count(True) > 0:\n",
    "            return True\n",
    "        else:\n",
    "            return False"
   ]
  },
  {
   "cell_type": "code",
   "execution_count": 294,
   "metadata": {
    "collapsed": false
   },
   "outputs": [],
   "source": [
    "sim1 = HighwaySim()"
   ]
  },
  {
   "cell_type": "code",
   "execution_count": 295,
   "metadata": {
    "collapsed": false
   },
   "outputs": [
    {
     "name": "stdout",
     "output_type": "stream",
     "text": [
      "-1\n",
      "957\n",
      "-2\n",
      "924\n",
      "-3\n",
      "891\n",
      "-4\n",
      "858\n",
      "-5\n",
      "825\n",
      "-6\n",
      "792\n",
      "-7\n",
      "759\n",
      "-8\n",
      "726\n",
      "-9\n",
      "693\n",
      "-10\n",
      "660\n",
      "-11\n",
      "627\n",
      "-12\n",
      "594\n",
      "-13\n",
      "561\n",
      "-14\n",
      "528\n",
      "-15\n",
      "495\n",
      "-16\n",
      "492\n",
      "-17\n",
      "457\n",
      "-18\n",
      "424\n",
      "-19\n",
      "391\n",
      "-20\n",
      "358\n",
      "-21\n",
      "325\n",
      "-22\n",
      "292\n",
      "-23\n",
      "259\n",
      "-24\n",
      "226\n",
      "-25\n",
      "193\n",
      "-26\n",
      "160\n",
      "-27\n",
      "127\n",
      "-28\n",
      "94\n",
      "-29\n",
      "957\n",
      "-30\n",
      "952\n"
     ]
    },
    {
     "data": {
      "text/plain": [
       "True"
      ]
     },
     "execution_count": 295,
     "metadata": {},
     "output_type": "execute_result"
    }
   ],
   "source": [
    "sim1.run_sim()"
   ]
  },
  {
   "cell_type": "code",
   "execution_count": 296,
   "metadata": {
    "collapsed": false
   },
   "outputs": [
    {
     "data": {
      "text/plain": [
       "0"
      ]
     },
     "execution_count": 296,
     "metadata": {},
     "output_type": "execute_result"
    }
   ],
   "source": [
    "sim1.is_traffic.count('True')"
   ]
  },
  {
   "cell_type": "code",
   "execution_count": 297,
   "metadata": {
    "collapsed": false
   },
   "outputs": [
    {
     "data": {
      "text/plain": [
       "[Car(location=32,gap=61,speed=28),\n",
       " Car(location=65,gap=-896,speed=28),\n",
       " Car(location=98,gap=-1853,speed=28),\n",
       " Car(location=131,gap=-2810,speed=28),\n",
       " Car(location=164,gap=-3767,speed=28),\n",
       " Car(location=197,gap=-4724,speed=28),\n",
       " Car(location=230,gap=-5681,speed=28),\n",
       " Car(location=263,gap=-6638,speed=28),\n",
       " Car(location=296,gap=-7595,speed=28),\n",
       " Car(location=329,gap=-8552,speed=28),\n",
       " Car(location=362,gap=-9509,speed=28),\n",
       " Car(location=395,gap=-10466,speed=28),\n",
       " Car(location=428,gap=-11423,speed=28),\n",
       " Car(location=461,gap=-12380,speed=28),\n",
       " Car(location=496,gap=-14385,speed=30),\n",
       " Car(location=491,gap=492,speed=0),\n",
       " Car(location=456,gap=457,speed=0),\n",
       " Car(location=423,gap=424,speed=0),\n",
       " Car(location=390,gap=391,speed=0),\n",
       " Car(location=357,gap=358,speed=0),\n",
       " Car(location=324,gap=325,speed=0),\n",
       " Car(location=291,gap=292,speed=0),\n",
       " Car(location=258,gap=259,speed=0),\n",
       " Car(location=225,gap=226,speed=0),\n",
       " Car(location=192,gap=193,speed=0),\n",
       " Car(location=159,gap=160,speed=0),\n",
       " Car(location=126,gap=127,speed=0),\n",
       " Car(location=93,gap=94,speed=0),\n",
       " Car(location=958,gap=-27783,speed=30),\n",
       " Car(location=956,gap=952,speed=0)]"
      ]
     },
     "execution_count": 297,
     "metadata": {},
     "output_type": "execute_result"
    }
   ],
   "source": [
    "sim1.road.vehicles"
   ]
  },
  {
   "cell_type": "code",
   "execution_count": 38,
   "metadata": {
    "collapsed": false
   },
   "outputs": [],
   "source": [
    "def highway_trials(num_trials=1000):\n",
    "    \"\"\"\n",
    "    Run num_trials of run_sim\n",
    "    \"\"\"\n",
    "    trial_stats = []\n",
    "    for _ in range(num_trials):\n",
    "        trial_data = HighwaySim()\n",
    "        trial_stats.append(trial_data)\n",
    "    return trial_stats"
   ]
  },
  {
   "cell_type": "code",
   "execution_count": 9,
   "metadata": {
    "collapsed": true
   },
   "outputs": [],
   "source": [
    "highway_1000_data = highway_trials()"
   ]
  },
  {
   "cell_type": "code",
   "execution_count": 10,
   "metadata": {
    "collapsed": false
   },
   "outputs": [
    {
     "name": "stdout",
     "output_type": "stream",
     "text": [
      "0\n"
     ]
    }
   ],
   "source": [
    "print(highway_1000_data.count(True))"
   ]
  },
  {
   "cell_type": "code",
   "execution_count": null,
   "metadata": {
    "collapsed": true
   },
   "outputs": [],
   "source": []
  }
 ],
 "metadata": {
  "kernelspec": {
   "display_name": "Python 3",
   "language": "python",
   "name": "python3"
  },
  "language_info": {
   "codemirror_mode": {
    "name": "ipython",
    "version": 3
   },
   "file_extension": ".py",
   "mimetype": "text/x-python",
   "name": "python",
   "nbconvert_exporter": "python",
   "pygments_lexer": "ipython3",
   "version": "3.4.3"
  }
 },
 "nbformat": 4,
 "nbformat_minor": 0
}
