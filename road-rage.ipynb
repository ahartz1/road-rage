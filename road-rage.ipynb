{
 "cells": [
  {
   "cell_type": "markdown",
   "metadata": {},
   "source": [
    "# Road Rage: Finding the Ideal Speed Limit\n",
    "\n",
    "### Assumptions\n",
    "* Drivers want to go up to 120 km/hr.\n",
    "* The average car is 5 meters long.\n",
    "* Drivers want at least a number of meters equal to their speed in meters/second between them and the next car.\n",
    "* Drivers will accelerate 2 m/s<sup>2</sup> up to their desired speed as long as they have room to do so.\n",
    "* If another car is too close, drivers will match that car's speed until they have room again.\n",
    "* If a driver would hit another car by continuing, they stop.\n",
    "* Drivers will randomly (10% chance each second) slow by 2 m/s.\n",
    "* This section of road is one lane going one way.\n",
    "* Assume that drivers enter the road at the speed they left.\n",
    "* Simulation starts with 30 cars per kilometer, evenly spaced.\n",
    "\n",
    "## Normal Mode\n",
    "We have a 1 kilometer section of road being built and do not know what the speed limit should be. This notebook simulates the 1 kilometer of road. Even though this road is not circular, the simulation treats it as such in order to generate a continuous flow of traffic."
   ]
  },
  {
   "cell_type": "code",
   "execution_count": 1,
   "metadata": {
    "collapsed": false
   },
   "outputs": [],
   "source": [
    "import math\n",
    "import matplotlib.pyplot as plt\n",
    "import numpy as np\n",
    "import random\n",
    "from traffic_lib import *\n",
    "%matplotlib inline"
   ]
  },
  {
   "cell_type": "code",
   "execution_count": 2,
   "metadata": {
    "collapsed": false
   },
   "outputs": [],
   "source": [
    "class Car:\n",
    "    \"\"\"\n",
    "    Responsibilities:\n",
    "    - Know speed (in m/s)\n",
    "    - Know distance to driver ahead\n",
    "    - Keep distance from driver ahead\n",
    "    - Accelerate if possible\n",
    "    - Match speed of those ahead if within safety zone\n",
    "    - Stop if new location would result in crash (0 distance to car ahead)\n",
    "    \"\"\"\n",
    "    \n",
    "    def __init__(self, location, gap=28, speed_limit=33, start_speed=28):\n",
    "        # speed limit is in km/hr = 1000 m / 3600 s = 1/3.6 m/s;\n",
    "        self.desired_speed = speed_limit\n",
    "        self.speed = start_speed\n",
    "        # Initial speed of 28 m/s \n",
    "        self.gap = gap\n",
    "        self.size = 5\n",
    "        self.location = location\n",
    "        self.advance = None\n",
    "    \n",
    "    def drive(self, car_ahead):\n",
    "        self.advance = self.speed - car_ahead.speed\n",
    "\n",
    "        if car_ahead.location - (car_ahead.size - 1) - self.location > self.location - car_ahead.location:\n",
    "            self.gap = car_ahead.location - (car_ahead.size - 1) - self.location\n",
    "        else:\n",
    "            self.gap = car_ahead.location + 1000 - (car_ahead.size - 1) - self.location\n",
    "\n",
    "        if self.stop():\n",
    "            return self\n",
    "        elif self.match_speed(car_ahead):\n",
    "            return self\n",
    "        elif self.random_slowdown():\n",
    "            return self\n",
    "        elif self.accelerate():\n",
    "            return self\n",
    "\n",
    "    def stop(self, car_ahead):\n",
    "        if self.gap - self.advance <= 0:\n",
    "            self.speed = 0\n",
    "            self.location = car_ahead.location - (car_ahead.size - 1)\n",
    "            self.update_location()\n",
    "            # Needs special location update; stops at 0 gap\n",
    "            return True\n",
    "        \n",
    "    def match_speed(self, car_ahead):\n",
    "        if self.gap - self.advance <= self.speed:\n",
    "            self.speed = car_ahead.speed\n",
    "            self.update_location()\n",
    "            return True\n",
    "        \n",
    "    def random_slowdown(self):\n",
    "        if random.random(0, 1) < 0.1:\n",
    "            self.speed -= 2\n",
    "            self.update_location()\n",
    "            return True\n",
    "    \n",
    "    def accelerate(self):\n",
    "        if self.speed < self.desired_speed:\n",
    "            self.speed += 2\n",
    "            self.update_location()\n",
    "            return True\n",
    "    \n",
    "    def update_location(self):\n",
    "        self.location = (self.location + self.speed) % 1000"
   ]
  },
  {
   "cell_type": "code",
   "execution_count": 6,
   "metadata": {
    "collapsed": false
   },
   "outputs": [],
   "source": [
    "class Road:\n",
    "    \"\"\"\n",
    "    Responsibilities:\n",
    "    - Hold length of road\n",
    "    - Keep a list of vehicles on road\n",
    "        - Initialize with number of cars\n",
    "        - 1000 - sum(vehicle.size) // len(self.vehicles)\n",
    "    - Hold potential for slowdown\n",
    "    \n",
    "    Collaborators:\n",
    "    - Car\n",
    "    \"\"\"\n",
    "    def __init__(self, num_trucks=0):\n",
    "        self.meter_marker = np.repeat(0, 1000)\n",
    "        # May not need this; just keep array of car objects and the position of the front of their car\n",
    "        self.total_vehicle_space = (30 - num_trucks) * 5 + num_trucks * 25\n",
    "        self.initial_gap = 1000 - self.total_vehicle_space // 30\n",
    "        self.initial_location\n",
    "        self.vehicles = [Car((4 + initial_gap)*n, initial_gap) for n in range(30 - num_trucks)]\n",
    "        [self.vehicles.append(Truck() for _ in range(num_trucks))]\n",
    "        # Needs refactoring; need to evenly space. Perhaps make Car have a chance of being a truck?\n",
    "        # They are long enough where they won't cause a collision on initialization\n",
    "        # Could initialize vehicles and update location before starting simulation\n",
    "        \n",
    "        self.vehicles[-1].gap = 1000 - self.vehicles[-1].location\n",
    "        \n",
    "    def reindex_car(self):\n",
    "        if self.vehicles[-1].location < self.total_vehicle_space:\n",
    "            self.index(0, self.vehicles.pop(-1))\n",
    "            return True\n",
    "        \n",
    "        \n",
    "    \n"
   ]
  },
  {
   "cell_type": "code",
   "execution_count": 4,
   "metadata": {
    "collapsed": true
   },
   "outputs": [],
   "source": [
    "class Simulation:\n",
    "    \"\"\"\n",
    "    Responsibilities:\n",
    "    - Have road place cars at beginning of road when they reach the end\n",
    "    - Keep track of time (seconds)\n",
    "    - Step through time (ticks)\n",
    "        - For each car on Road, tell car behind new situation and allow it to react\n",
    "        - Update locations; location % 1000\n",
    "    - Report stats; return traffic jam status\n",
    "    - Pop, Append\n",
    "    \n",
    "    Collaborators:\n",
    "    - Car\n",
    "    - Road\n",
    "    \"\"\"\n",
    "    \n",
    "    def __init__(self):\n",
    "        self.road = Road()\n",
    "        self.ticks = 0\n",
    "        self.stopped_traffic = False\n",
    "    \n",
    "    def iterate(self):\n",
    "        \"\"\"\n",
    "        Reverse list to process cars at the end of the road first.\n",
    "        n.b., lower numbers are physically ahead of higher numbers.\n",
    "        \"\"\"\n",
    "        for idx, v in enumerate(self.road.vehicles[::-1]):\n",
    "            v.drive(self.road.vehicles(idx - 1))\n",
    "            \n",
    "    def run_sim(self, duration=6):\n",
    "        while self.ticks < duration:\n",
    "            self.iterate()\n",
    "            ticks += 1        "
   ]
  },
  {
   "cell_type": "code",
   "execution_count": null,
   "metadata": {
    "collapsed": true
   },
   "outputs": [],
   "source": []
  },
  {
   "cell_type": "code",
   "execution_count": null,
   "metadata": {
    "collapsed": true
   },
   "outputs": [],
   "source": []
  },
  {
   "cell_type": "code",
   "execution_count": null,
   "metadata": {
    "collapsed": true
   },
   "outputs": [],
   "source": []
  },
  {
   "cell_type": "code",
   "execution_count": null,
   "metadata": {
    "collapsed": true
   },
   "outputs": [],
   "source": []
  },
  {
   "cell_type": "code",
   "execution_count": null,
   "metadata": {
    "collapsed": true
   },
   "outputs": [],
   "source": []
  },
  {
   "cell_type": "code",
   "execution_count": null,
   "metadata": {
    "collapsed": true
   },
   "outputs": [],
   "source": []
  },
  {
   "cell_type": "code",
   "execution_count": null,
   "metadata": {
    "collapsed": true
   },
   "outputs": [],
   "source": []
  }
 ],
 "metadata": {
  "kernelspec": {
   "display_name": "Python 3",
   "language": "python",
   "name": "python3"
  },
  "language_info": {
   "codemirror_mode": {
    "name": "ipython",
    "version": 3
   },
   "file_extension": ".py",
   "mimetype": "text/x-python",
   "name": "python",
   "nbconvert_exporter": "python",
   "pygments_lexer": "ipython3",
   "version": "3.4.3"
  }
 },
 "nbformat": 4,
 "nbformat_minor": 0
}
